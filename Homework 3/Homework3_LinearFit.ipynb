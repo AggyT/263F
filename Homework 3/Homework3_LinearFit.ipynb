{
  "nbformat": 4,
  "nbformat_minor": 0,
  "metadata": {
    "colab": {
      "provenance": []
    },
    "kernelspec": {
      "name": "python3",
      "display_name": "Python 3"
    },
    "language_info": {
      "name": "python"
    }
  },
  "cells": [
    {
      "cell_type": "markdown",
      "source": [
        "We want to fit some data to the following form.\n",
        "$$ y = mx + b\n",
        "$$"
      ],
      "metadata": {
        "id": "m5wZiRU3tWU_"
      }
    },
    {
      "cell_type": "markdown",
      "source": [
        "# Import libraries"
      ],
      "metadata": {
        "id": "o7vBPfaSpu_t"
      }
    },
    {
      "cell_type": "code",
      "source": [
        "import numpy as np\n",
        "import matplotlib.pyplot as plt"
      ],
      "metadata": {
        "id": "j0A8x_1kplbH"
      },
      "execution_count": 14,
      "outputs": []
    },
    {
      "cell_type": "markdown",
      "source": [
        "# Generate data\n",
        "\n",
        "We are generating in a way that may seem arbitrary. We will be using an enhanced model in the next part of the lecture and employing the same data generation method."
      ],
      "metadata": {
        "id": "ER_a9M7kpmoA"
      }
    },
    {
      "cell_type": "code",
      "source": [
        "# Seed for reproducibility\n",
        "np.random.seed(42)\n",
        "\n",
        "# Generate 10 random x values within a range\n",
        "x_generated = np.linspace(0, 5, 10)\n",
        "\n",
        "# Parameters for the function (can use the previously fitted values or set randomly)\n",
        "n_true = 0.06\n",
        "a_true = 0.25\n",
        "m_true = 0.57\n",
        "b_true = 0.11\n",
        "\n",
        "# Generate corresponding y values based on the function with added noise\n",
        "noise = 0.001 * np.random.normal(0, 0.1, size=x_generated.shape)  # Add Gaussian noise\n",
        "y_generated = n_true * np.exp(-a_true * (m_true * x_generated + b_true) ** 2) + noise\n",
        "\n",
        "# Display the generated x and y arrays\n",
        "x_generated, y_generated"
      ],
      "metadata": {
        "colab": {
          "base_uri": "https://localhost:8080/"
        },
        "id": "ma51Ph7GpkPR",
        "outputId": "acecf83a-7fd6-4002-af4e-2764e0eb1cd3"
      },
      "execution_count": 15,
      "outputs": [
        {
          "output_type": "execute_result",
          "data": {
            "text/plain": [
              "(array([0.        , 0.55555556, 1.11111111, 1.66666667, 2.22222222,\n",
              "        2.77777778, 3.33333333, 3.88888889, 4.44444444, 5.        ]),\n",
              " array([0.05986845, 0.05731671, 0.05232358, 0.04545853, 0.03733439,\n",
              "        0.02927403, 0.02201051, 0.01557923, 0.01041288, 0.00676658]))"
            ]
          },
          "metadata": {},
          "execution_count": 15
        }
      ]
    },
    {
      "cell_type": "markdown",
      "source": [
        "# Gradient Descent and Backpropagation"
      ],
      "metadata": {
        "id": "xtlmmmYnpqV8"
      }
    },
    {
      "cell_type": "markdown",
      "source": [
        "$$\n",
        "\\text{Loss}(m, b) = \\frac{1}{N} \\sum_{i=1}^N \\left( y_i - (m \\cdot x_i + b) \\right)^2\n",
        "$$"
      ],
      "metadata": {
        "id": "lqOBS2JLrgnp"
      }
    },
    {
      "cell_type": "code",
      "source": [
        "def compute_loss(x, y, m, b):\n",
        "    \"\"\"\n",
        "    Compute the Mean Squared Error (MSE) loss for the linear function y = mx + b.\n",
        "\n",
        "    Parameters:\n",
        "    x : np.array\n",
        "        Input data points (x values).\n",
        "    y : np.array\n",
        "        Actual output data points (y values).\n",
        "    m, b : float\n",
        "        Parameters of the linear function.\n",
        "\n",
        "    Returns:\n",
        "    float\n",
        "        Mean Squared Error (MSE) loss.\n",
        "    \"\"\"\n",
        "    y_pred = m * x + b\n",
        "    return np.mean((y - y_pred) ** 2)"
      ],
      "metadata": {
        "id": "Wsvx0-sIqKA6"
      },
      "execution_count": 16,
      "outputs": []
    },
    {
      "cell_type": "markdown",
      "source": [
        "**Gradients of the loss function**\n",
        "$$\n",
        "\\frac{\\partial \\text{Loss}}{\\partial m} = -\\frac{2}{N} \\sum_{i=1}^N x_i \\cdot \\left( y_i - (m \\cdot x_i + b) \\right)\n",
        "$$\n",
        "\n",
        "$$\n",
        "\\frac{\\partial \\text{Loss}}{\\partial b} = -\\frac{2}{N} \\sum_{i=1}^N \\left( y_i - (m \\cdot x_i + b) \\right)\n",
        "$$"
      ],
      "metadata": {
        "id": "0aIg7JBdrpvB"
      }
    },
    {
      "cell_type": "markdown",
      "source": [
        "**Parameter updates**\n",
        "\n",
        "$$\n",
        "m \\leftarrow m - \\eta \\frac{\\partial \\text{Loss}}{\\partial m}, \\quad b \\leftarrow b - \\eta \\frac{\\partial \\text{Loss}}{\\partial b}\n",
        "$$"
      ],
      "metadata": {
        "id": "DO59cAgJr7vQ"
      }
    },
    {
      "cell_type": "code",
      "execution_count": 17,
      "metadata": {
        "colab": {
          "base_uri": "https://localhost:8080/"
        },
        "id": "kYZQXTmopQ2G",
        "outputId": "aceb46a7-a995-44f4-a743-0e0395ed9acd"
      },
      "outputs": [
        {
          "output_type": "stream",
          "name": "stdout",
          "text": [
            "Epoch 0: Loss = 0.46036524232994507910\n",
            "Epoch 1000: Loss = 0.31475763748976537393\n",
            "Epoch 2000: Loss = 0.21529832551275074337\n",
            "Epoch 3000: Loss = 0.14736024777795173057\n",
            "Epoch 4000: Loss = 0.10095251577476757610\n",
            "Epoch 5000: Loss = 0.06925093760814458876\n",
            "Epoch 6000: Loss = 0.04759430661044968675\n",
            "Epoch 7000: Loss = 0.03279882480386715760\n",
            "Epoch 8000: Loss = 0.02268982567002158710\n",
            "Epoch 9000: Loss = 0.01578192136554325622\n",
            "Epoch 10000: Loss = 0.01106052999463024746\n",
            "Epoch 11000: Loss = 0.00783264966836393420\n",
            "Epoch 12000: Loss = 0.00562493099349518216\n",
            "Epoch 13000: Loss = 0.00411405635170154684\n",
            "Epoch 14000: Loss = 0.00307918605764268384\n",
            "Epoch 15000: Loss = 0.00236947711113208491\n",
            "Epoch 16000: Loss = 0.00188189715668418797\n",
            "Epoch 17000: Loss = 0.00154607049700685112\n",
            "Epoch 18000: Loss = 0.00131392729120718066\n",
            "Epoch 19000: Loss = 0.00115263352751504046\n",
            "Epoch 20000: Loss = 0.00103976190117279323\n",
            "Epoch 21000: Loss = 0.00095999332356356377\n",
            "Epoch 22000: Loss = 0.00090286391600517704\n",
            "Epoch 23000: Loss = 0.00086122611296466593\n",
            "Epoch 24000: Loss = 0.00083019753164662990\n",
            "Epoch 25000: Loss = 0.00080644300626033058\n",
            "Epoch 26000: Loss = 0.00078768418759084745\n",
            "Epoch 27000: Loss = 0.00077236457911850065\n",
            "Epoch 28000: Loss = 0.00075942074275249364\n",
            "Epoch 29000: Loss = 0.00074812602281808791\n",
            "Epoch 30000: Loss = 0.00073798380302116627\n",
            "Epoch 31000: Loss = 0.00072865459649261162\n",
            "Epoch 32000: Loss = 0.00071990624523073110\n",
            "Epoch 33000: Loss = 0.00071157990422213960\n",
            "Epoch 34000: Loss = 0.00070356680715342253\n",
            "Epoch 35000: Loss = 0.00069579239639719825\n",
            "Epoch 36000: Loss = 0.00068820548310355293\n",
            "Epoch 37000: Loss = 0.00068077084306249539\n",
            "Epoch 38000: Loss = 0.00067346415934104831\n",
            "Epoch 39000: Loss = 0.00066626856786503627\n",
            "Epoch 40000: Loss = 0.00065917229787897872\n",
            "Epoch 41000: Loss = 0.00065216706025350200\n",
            "Epoch 42000: Loss = 0.00064524694660394425\n",
            "Epoch 43000: Loss = 0.00063840767731448208\n",
            "Epoch 44000: Loss = 0.00063164608787950936\n",
            "Epoch 45000: Loss = 0.00062495977802596290\n",
            "Epoch 46000: Loss = 0.00061834687202197837\n",
            "Epoch 47000: Loss = 0.00061180585493079162\n",
            "Epoch 48000: Loss = 0.00060533546073861363\n",
            "Epoch 49000: Loss = 0.00059893459591496383\n",
            "Epoch 50000: Loss = 0.00059260228717504288\n",
            "Epoch 51000: Loss = 0.00058633764577337134\n",
            "Epoch 52000: Loss = 0.00058013984308931464\n",
            "Epoch 53000: Loss = 0.00057400809392567950\n",
            "Epoch 54000: Loss = 0.00056794164507586683\n",
            "Epoch 55000: Loss = 0.00056193976749004419\n",
            "Epoch 56000: Loss = 0.00055600175089975674\n",
            "Epoch 57000: Loss = 0.00055012690012208652\n",
            "Epoch 58000: Loss = 0.00054431453251121910\n",
            "Epoch 59000: Loss = 0.00053856397619404784\n",
            "Epoch 60000: Loss = 0.00053287456884148240\n",
            "Epoch 61000: Loss = 0.00052724565680603878\n",
            "Epoch 62000: Loss = 0.00052167659450970199\n",
            "Epoch 63000: Loss = 0.00051616674400310400\n",
            "Epoch 64000: Loss = 0.00051071547464193428\n",
            "Epoch 65000: Loss = 0.00050532216284361142\n",
            "Epoch 66000: Loss = 0.00049998619189906869\n",
            "Epoch 67000: Loss = 0.00049470695182240825\n",
            "Epoch 68000: Loss = 0.00048948383922662404\n",
            "Epoch 69000: Loss = 0.00048431625721740329\n",
            "Epoch 70000: Loss = 0.00047920361529945937\n",
            "Epoch 71000: Loss = 0.00047414532929169594\n",
            "Epoch 72000: Loss = 0.00046914082124855977\n",
            "Epoch 73000: Loss = 0.00046418951938592619\n",
            "Epoch 74000: Loss = 0.00045929085801021838\n",
            "Epoch 75000: Loss = 0.00045444427745000788\n",
            "Epoch 76000: Loss = 0.00044964922398946808\n",
            "Epoch 77000: Loss = 0.00044490514980335310\n",
            "Epoch 78000: Loss = 0.00044021151289322380\n",
            "Epoch 79000: Loss = 0.00043556777702467435\n",
            "Epoch 80000: Loss = 0.00043097341166552282\n",
            "Epoch 81000: Loss = 0.00042642789192481618\n",
            "Epoch 82000: Loss = 0.00042193069849260105\n",
            "Epoch 83000: Loss = 0.00041748131758040645\n",
            "Epoch 84000: Loss = 0.00041307924086243900\n",
            "Epoch 85000: Loss = 0.00040872396541738638\n",
            "Epoch 86000: Loss = 0.00040441499367096053\n",
            "Epoch 87000: Loss = 0.00040015183333897005\n",
            "Epoch 88000: Loss = 0.00039593399737106286\n",
            "Epoch 89000: Loss = 0.00039176100389506804\n",
            "Epoch 90000: Loss = 0.00038763237616194090\n",
            "Epoch 91000: Loss = 0.00038354764249126096\n",
            "Epoch 92000: Loss = 0.00037950633621735739\n",
            "Epoch 93000: Loss = 0.00037550799563599061\n",
            "Epoch 94000: Loss = 0.00037155216395159583\n",
            "Epoch 95000: Loss = 0.00036763838922509431\n",
            "Epoch 96000: Loss = 0.00036376622432226558\n",
            "Epoch 97000: Loss = 0.00035993522686265375\n",
            "Epoch 98000: Loss = 0.00035614495916903274\n",
            "Epoch 99000: Loss = 0.00035239498821740397\n",
            "0.0003486885759173733\n"
          ]
        },
        {
          "output_type": "execute_result",
          "data": {
            "text/plain": [
              "(-0.021765727151910046, 0.09726613571271642)"
            ]
          },
          "metadata": {},
          "execution_count": 17
        }
      ],
      "source": [
        "# Generate data points directly as NumPy arrays (without pandas)\n",
        "x_data = x_generated\n",
        "y_data = y_generated\n",
        "\n",
        "# Reinitialize parameters (n, a, m, b)\n",
        "m_fit = np.random.rand()\n",
        "b_fit = np.random.rand()\n",
        "\n",
        "epochs = 100000\n",
        "learning_rate = 0.00001\n",
        "\n",
        "loss = []\n",
        "\n",
        "# Perform gradient descent for the generated data\n",
        "for epoch in range(epochs):\n",
        "    # Forward pass: compute predicted outputs\n",
        "    y_pred_fit = m_fit * x_data + b_fit\n",
        "\n",
        "    # Compute gradients\n",
        "    grad_m_fit = -2 * np.mean((y_data - y_pred_fit) * x_data)\n",
        "    grad_b_fit = -2 * np.mean(y_data - y_pred_fit)\n",
        "\n",
        "    # Update parameters\n",
        "    m_fit -= learning_rate * grad_m_fit\n",
        "    b_fit -= learning_rate * grad_b_fit\n",
        "\n",
        "    # Compute loss for monitoring\n",
        "    loss_fit = compute_loss(x_data, y_data, m_fit, b_fit)\n",
        "\n",
        "    # Print loss every 1000 epochs\n",
        "    if epoch % 1000 == 0:\n",
        "        print(f\"Epoch {epoch}: Loss = {loss_fit:.20f}\")\n",
        "\n",
        "    loss.append(loss_fit)\n",
        "\n",
        "# Final fitted parameter values\n",
        "print(min(loss))\n",
        "m_fit, b_fit"
      ]
    },
    {
      "cell_type": "markdown",
      "source": [
        "# Visualization"
      ],
      "metadata": {
        "id": "NawxJewFqmm7"
      }
    },
    {
      "cell_type": "code",
      "source": [
        "# Predicted y values using the fitted parameters\n",
        "y_predicted = m_fit * x_generated + b_fit\n",
        "\n",
        "# Plot the training data\n",
        "plt.scatter(x_generated, y_generated, color='blue', label='Training Data (Noisy)', marker='o')\n",
        "\n",
        "# Plot the predicted data\n",
        "plt.plot(x_generated, y_predicted, color='red', label='Predicted Data (Model)', linestyle='--')\n",
        "\n",
        "# Add labels, title, and legend\n",
        "plt.xlabel(\"x\")\n",
        "plt.ylabel(\"y\")\n",
        "plt.title(\"Comparison of Training Data and Predicted Data\")\n",
        "plt.legend()\n",
        "plt.grid(True)\n",
        "\n",
        "# Show the plot\n",
        "plt.show()"
      ],
      "metadata": {
        "colab": {
          "base_uri": "https://localhost:8080/",
          "height": 472
        },
        "id": "iXtESZvfpyoF",
        "outputId": "9f5e9c97-c4e0-4579-9aa5-67c213b0b027"
      },
      "execution_count": 18,
      "outputs": [
        {
          "output_type": "display_data",
          "data": {
            "text/plain": [
              "<Figure size 640x480 with 1 Axes>"
            ],
            "image/png": "[encoded data removed]"
          },
          "metadata": {}
        }
      ]
    },
    {
      "cell_type": "code",
      "source": [],
      "metadata": {
        "id": "gDvBThLoqpcD"
      },
      "execution_count": 18,
      "outputs": []
    }
  ]
}