{
  "nbformat": 4,
  "nbformat_minor": 0,
  "metadata": {
    "colab": {
      "provenance": []
    },
    "kernelspec": {
      "name": "python3",
      "display_name": "Python 3"
    },
    "language_info": {
      "name": "python"
    }
  },
  "cells": [
    {
      "cell_type": "markdown",
      "source": [
        "We want to fit some data to the following form.\n",
        "$$ y = n y_{int}^2,\n",
        "$$\n",
        "\n",
        "where\n",
        "\n",
        "$$\n",
        "y_{int} = n \\exp(-a y_{int} ) $$"
      ],
      "metadata": {
        "id": "AInNOyt6x5wB"
      }
    },
    {
      "cell_type": "markdown",
      "source": [
        "# Import libraries"
      ],
      "metadata": {
        "id": "o7vBPfaSpu_t"
      }
    },
    {
      "cell_type": "code",
      "source": [
        "import numpy as np\n",
        "import matplotlib.pyplot as plt"
      ],
      "metadata": {
        "id": "j0A8x_1kplbH"
      },
      "execution_count": 119,
      "outputs": []
    },
    {
      "cell_type": "markdown",
      "source": [
        "# Generate data"
      ],
      "metadata": {
        "id": "ER_a9M7kpmoA"
      }
    },
    {
      "cell_type": "code",
      "source": [
        "# Seed for reproducibility\n",
        "np.random.seed(42)\n",
        "\n",
        "# Generate 10 random x values within a range\n",
        "x_generated = np.linspace(0, 5, 10)\n",
        "\n",
        "# Parameters for the function (can use the previously fitted values or set randomly)\n",
        "n_true = 0.06\n",
        "a_true = 0.25\n",
        "m_true = 0.57\n",
        "b_true = 0.11\n",
        "\n",
        "# Generate corresponding y values based on the function with added noise\n",
        "noise = 0.001 * np.random.normal(0, 0.1, size=x_generated.shape)  # Add Gaussian noise\n",
        "y_generated = n_true * np.exp(-a_true * (m_true * x_generated + b_true) ** 2) + noise\n",
        "\n",
        "# Display the generated x and y arrays\n",
        "x_generated, y_generated"
      ],
      "metadata": {
        "colab": {
          "base_uri": "https://localhost:8080/"
        },
        "id": "ma51Ph7GpkPR",
        "outputId": "a7207f1d-e920-4ce4-a7eb-b99386591fcc"
      },
      "execution_count": 120,
      "outputs": [
        {
          "output_type": "execute_result",
          "data": {
            "text/plain": [
              "(array([0.        , 0.55555556, 1.11111111, 1.66666667, 2.22222222,\n",
              "        2.77777778, 3.33333333, 3.88888889, 4.44444444, 5.        ]),\n",
              " array([0.05986845, 0.05731671, 0.05232358, 0.04545853, 0.03733439,\n",
              "        0.02927403, 0.02201051, 0.01557923, 0.01041288, 0.00676658]))"
            ]
          },
          "metadata": {},
          "execution_count": 120
        }
      ]
    },
    {
      "cell_type": "markdown",
      "source": [
        "# Gradient Descent and Backpropagation"
      ],
      "metadata": {
        "id": "xtlmmmYnpqV8"
      }
    },
    {
      "cell_type": "markdown",
      "source": [
        "$$\n",
        "\\text{Loss}(n, a, m, b) = \\frac{1}{N} \\sum_{i=1}^N \\left( y_i - n \\cdot \\exp\\left(-a \\cdot \\left(m \\cdot x_i + b\\right)^2\\right) \\right)^2\n",
        "$$"
      ],
      "metadata": {
        "id": "lqOBS2JLrgnp"
      }
    },
    {
      "cell_type": "code",
      "source": [
        "def compute_loss(x, y, n, a, m, b):\n",
        "    \"\"\"\n",
        "    Compute the Mean Squared Error (MSE) loss.\n",
        "\n",
        "    Parameters:\n",
        "    x : np.array\n",
        "        Input data points (x values).\n",
        "    y : np.array\n",
        "        Actual output data points (y values).\n",
        "    n, a, m, b : float\n",
        "        Parameters of the function y = n * exp(-a * (m * x + b)^2).\n",
        "\n",
        "    Returns:\n",
        "    float\n",
        "        Mean Squared Error (MSE) loss.\n",
        "    \"\"\"\n",
        "    y_int = (m * x + b) ** 2\n",
        "    y_pred = n * np.exp(-a * y_int)\n",
        "    return np.mean((y - y_pred) ** 2)"
      ],
      "metadata": {
        "id": "Wsvx0-sIqKA6"
      },
      "execution_count": 121,
      "outputs": []
    },
    {
      "cell_type": "markdown",
      "source": [
        "**Gradients of the loss function**\n",
        "$$\n",
        "\\frac{\\partial \\text{Loss}}{\\partial n} = -\\frac{2}{N} \\sum_{i=1}^N \\left( y_i - n \\cdot \\exp\\left(-a \\cdot \\left(m \\cdot x_i + b\\right)^2\\right) \\right) \\cdot \\exp\\left(-a \\cdot \\left(m \\cdot x_i + b\\right)^2\\right)\n",
        "$$\n",
        "\n",
        "$$\n",
        "\\frac{\\partial \\text{Loss}}{\\partial a} = \\frac{2}{N} \\sum_{i=1}^N \\left( y_i - n \\cdot \\exp\\left(-a \\cdot \\left(m \\cdot x_i + b\\right)^2\\right) \\right) \\cdot n \\cdot \\exp\\left(-a \\cdot \\left(m \\cdot x_i + b\\right)^2\\right) \\cdot \\left(-\\left(m \\cdot x_i + b\\right)^2\\right)\n",
        "$$\n",
        "\n",
        "$$\n",
        "\\frac{\\partial \\text{Loss}}{\\partial m} = \\frac{2}{N} \\sum_{i=1}^N \\left( y_i - n \\cdot \\exp\\left(-a \\cdot \\left(m \\cdot x_i + b\\right)^2\\right) \\right) \\cdot n \\cdot \\exp\\left(-a \\cdot \\left(m \\cdot x_i + b\\right)^2\\right) \\cdot \\left(-2a \\cdot \\left(m \\cdot x_i + b\\right) \\cdot x_i\\right)\n",
        "$$\n",
        "\n",
        "$$\n",
        "\\frac{\\partial \\text{Loss}}{\\partial b} = \\frac{2}{N} \\sum_{i=1}^N \\left( y_i - n \\cdot \\exp\\left(-a \\cdot \\left(m \\cdot x_i + b\\right)^2\\right) \\right) \\cdot n \\cdot \\exp\\left(-a \\cdot \\left(m \\cdot x_i + b\\right)^2\\right) \\cdot \\left(-2a \\cdot \\left(m \\cdot x_i + b\\right)\\right)\n",
        "$$"
      ],
      "metadata": {
        "id": "0aIg7JBdrpvB"
      }
    },
    {
      "cell_type": "markdown",
      "source": [
        "**Parameter updates**\n",
        "\n",
        "$$\n",
        "n \\leftarrow n - \\eta \\frac{\\partial \\text{Loss}}{\\partial n}, \\quad a \\leftarrow a - \\eta \\frac{\\partial \\text{Loss}}{\\partial a}\n",
        "$$\n",
        "\n",
        "$$\n",
        "m \\leftarrow m - \\eta \\frac{\\partial \\text{Loss}}{\\partial m}, \\quad b \\leftarrow b - \\eta \\frac{\\partial \\text{Loss}}{\\partial b}\n",
        "$$"
      ],
      "metadata": {
        "id": "DO59cAgJr7vQ"
      }
    },
    {
      "cell_type": "code",
      "execution_count": 122,
      "metadata": {
        "colab": {
          "base_uri": "https://localhost:8080/"
        },
        "id": "kYZQXTmopQ2G",
        "outputId": "8d49d60b-08ab-4487-92ec-6e42a9dad7c6"
      },
      "outputs": [
        {
          "output_type": "stream",
          "name": "stdout",
          "text": [
            "Epoch 0: Loss = 0.009767\n",
            "0.00016592901744355757\n"
          ]
        },
        {
          "output_type": "execute_result",
          "data": {
            "text/plain": [
              "(0.045442482781796904,\n",
              " 0.1505895945539359,\n",
              " 0.2797350719586514,\n",
              " 0.517455566551947)"
            ]
          },
          "metadata": {},
          "execution_count": 122
        }
      ],
      "source": [
        "# Generate data points directly as NumPy arrays (without pandas)\n",
        "x_data = x_generated\n",
        "y_data = y_generated\n",
        "\n",
        "# Reinitialize parameters (n, a, m, b)\n",
        "n_fit = np.random.rand()\n",
        "a_fit = np.random.rand()\n",
        "m_fit = np.random.rand()\n",
        "b_fit = np.random.rand()\n",
        "\n",
        "epochs = 10000\n",
        "learning_rate = 0.001\n",
        "\n",
        "loss = []\n",
        "\n",
        "# Perform gradient descent for the generated data\n",
        "for epoch in range(epochs):\n",
        "    # Forward pass: compute intermediate and final outputs\n",
        "    y_int_fit = (m_fit * x_data + b_fit) ** 2\n",
        "    y_pred_fit = n_fit * np.exp(-a_fit * y_int_fit)\n",
        "\n",
        "    # Compute gradients\n",
        "    # Gradients for n and a (output layer)\n",
        "    grad_n_fit = -2 * np.mean((y_data - y_pred_fit) * np.exp(-a_fit * y_int_fit))\n",
        "    grad_a_fit = 2 * np.mean((y_data - y_pred_fit) * n_fit * np.exp(-a_fit * y_int_fit) * (-y_int_fit))\n",
        "\n",
        "    # Gradients for m and b (inner layer)\n",
        "    grad_m_fit = 2 * np.mean((y_data - y_pred_fit) * n_fit * np.exp(-a_fit * y_int_fit) * (-a_fit) * (2 * (m_fit * x_data + b_fit) * x_data))\n",
        "    grad_b_fit = 2 * np.mean((y_data - y_pred_fit) * n_fit * np.exp(-a_fit * y_int_fit) * (-a_fit) * (2 * (m_fit * x_data + b_fit)))\n",
        "\n",
        "    # Update parameters\n",
        "    n_fit -= learning_rate * grad_n_fit\n",
        "    a_fit -= learning_rate * grad_a_fit\n",
        "    m_fit -= learning_rate * grad_m_fit\n",
        "    b_fit -= learning_rate * grad_b_fit\n",
        "\n",
        "    # Compute loss for monitoring\n",
        "    loss_fit = compute_loss(x_data, y_data, n_fit, a_fit, m_fit, b_fit)\n",
        "\n",
        "    # Print loss every 100 epochs\n",
        "    if epoch % 10000 == 0:\n",
        "        print(f\"Epoch {epoch}: Loss = {loss_fit:.6f}\")\n",
        "\n",
        "    loss.append(loss_fit)\n",
        "\n",
        "# Final fitted parameter values\n",
        "print(min(loss))\n",
        "n_fit, a_fit, m_fit, b_fit"
      ]
    },
    {
      "cell_type": "markdown",
      "source": [
        "# Visualization"
      ],
      "metadata": {
        "id": "NawxJewFqmm7"
      }
    },
    {
      "cell_type": "code",
      "source": [
        "# Predicted y values using the fitted parameters\n",
        "y_predicted = n_fit * np.exp(-a_fit * (m_fit * x_generated + b_fit) ** 2)\n",
        "\n",
        "# Plot the training data\n",
        "plt.scatter(x_generated, y_generated, color='blue', label='Training Data (Noisy)', marker='o')\n",
        "\n",
        "# Plot the predicted data\n",
        "plt.plot(x_generated, y_predicted, color='red', label='Predicted Data (Model)', linestyle='--')\n",
        "\n",
        "# Add labels, title, and legend\n",
        "plt.xlabel(\"x\")\n",
        "plt.ylabel(\"y\")\n",
        "plt.title(\"Comparison of Training Data and Predicted Data\")\n",
        "plt.legend()\n",
        "plt.grid(True)\n",
        "\n",
        "# Show the plot\n",
        "plt.show()"
      ],
      "metadata": {
        "colab": {
          "base_uri": "https://localhost:8080/",
          "height": 472
        },
        "id": "iXtESZvfpyoF",
        "outputId": "60dcf2e5-c80a-4f96-9fd8-14780721d76e"
      },
      "execution_count": 123,
      "outputs": [
        {
          "output_type": "display_data",
          "data": {
            "text/plain": [
              "<Figure size 640x480 with 1 Axes>"
            ],
            "image/png": "[encoded data removed]"
          },
          "metadata": {}
        }
      ]
    }
  ]
}